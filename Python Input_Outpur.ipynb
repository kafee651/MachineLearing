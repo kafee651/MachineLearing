{
    "metadata": {
        "widgets": {
            "version": "1.1.2", 
            "state": {}
        }, 
        "kernelspec": {
            "language": "python", 
            "display_name": "Python 2 with Spark 1.6 (Unsupported)", 
            "name": "python2"
        }, 
        "language_info": {
            "version": "2.7.11", 
            "nbconvert_exporter": "python", 
            "codemirror_mode": {
                "version": 2, 
                "name": "ipython"
            }, 
            "mimetype": "text/x-python", 
            "name": "python", 
            "pygments_lexer": "ipython2", 
            "file_extension": ".py"
        }
    }, 
    "nbformat_minor": 1, 
    "cells": [
        {
            "metadata": {}, 
            "cell_type": "markdown", 
            "source": " <a href=\"https://cognitiveclass.ai\n\"><img src = \"https://ibm.box.com/shared/static/kpwal4mklabkeipypfo47rrm8xq0lslk.jpg\" width = 300, align = \"center\"></a>\n\n<h1 align=center><font size = 5>Reading, Writing and Saving Files in PYTHON</font></h1>"
        }, 
        {
            "metadata": {}, 
            "cell_type": "markdown", 
            "source": "<br>"
        }, 
        {
            "metadata": {}, 
            "cell_type": "markdown", 
            "source": "This notebook will provide information regarding reading, writing, and saving data into various types of files like text files, CSV files, Excel files etc., including matrices."
        }, 
        {
            "metadata": {}, 
            "cell_type": "markdown", 
            "source": "## Table of Contents\n\n\n<div class=\"alert alert-block alert-info\" style=\"margin-top: 20px\">\n<li><a href=\"#ref0\">About the Dataset</a></li>\n<li><a href=\"#ref1\">Reading Text Files</a></li>\n<li><a href=\"#ref3\">Writing and Saving to Files</a></li>\n<li><a href=\"#ref4\">Writing and Saving Matrices to Files</a></li>\n<br>\n<p></p>\nEstimated Time Needed: <strong>15 min</strong>\n</div>\n\n<hr>"
        }, 
        {
            "metadata": {}, 
            "cell_type": "markdown", 
            "source": "<a id=\"ref0\"></a>\n<h2 align=center>About the Dataset</h2>"
        }, 
        {
            "metadata": {}, 
            "cell_type": "markdown", 
            "source": "In this module, we are going to use the **Thriller.txt** file. This file contains text data which is basically summary of the **Thriller** album.\n\nThis is how our data looks like."
        }, 
        {
            "metadata": {}, 
            "cell_type": "markdown", 
            "source": "<font face=\"courier new\" size=\"2\">Thriller is the sixth studio album by the American singer Michael Jackson, released on November 30, 1982 by Epic Records. It is the follow-up to Jackson's critically and commercially successful fifth studio album Off the Wall (1979). Thriller explores genres similar to those of Off the Wall, including pop, post-disco, rock and funk. Recording sessions for Thriller took place from April to November 1982 at Westlake Recording Studios in Los Angeles, California with a production budget of \\$750,000 (US \\$1,842,155 in 2016 dollars[1]), assisted by producer Quincy Jones. Of the album's nine tracks, four were written by Jackson. Seven singles were released from the album, all of which reached the top 10 on the Billboard Hot 100 chart. Three of the singles had music videos released. \"Baby Be Mine\" and \"The Lady in My Life\" were the only tracks that were not released as singles from the album.\n\n[1] Federal Reserve Bank of Minneapolis Community Development Project. \"Consumer Price Index (estimate) 1800\u2013\". Federal Reserve Bank of Minneapolis. Retrieved October 21, 2016.</font>\n\nSource: https://en.wikipedia.org/wiki/Thriller_(Michael_Jackson_album)"
        }, 
        {
            "metadata": {}, 
            "cell_type": "markdown", 
            "source": "To load the data into the work bench, first run the code mentioned below."
        }, 
        {
            "metadata": {}, 
            "cell_type": "markdown", 
            "source": "<hr>"
        }, 
        {
            "metadata": {}, 
            "cell_type": "markdown", 
            "source": ""
        }, 
        {
            "metadata": {}, 
            "cell_type": "markdown", 
            "source": "To read text files in Python, we can use the built-in function **readlines()**. This function takes **file path** as the argument and read the whole file.\n\nLet's read the **Thriller.txt** file and see how it looks like."
        }, 
        {
            "execution_count": 3, 
            "outputs": [
                {
                    "output_type": "stream", 
                    "name": "stdout", 
                    "text": "--2017-11-19 08:07:08--  https://ibm.box.com/shared/static/cp4rkaw1pj0ggi3b8rxoxo9fvs4jecak.txt\nResolving ibm.box.com (ibm.box.com)... 107.152.26.197\nConnecting to ibm.box.com (ibm.box.com)|107.152.26.197|:443... connected.\nHTTP request sent, awaiting response... 301 Moved Permanently\nLocation: https://ibm.ent.box.com/shared/static/cp4rkaw1pj0ggi3b8rxoxo9fvs4jecak.txt [following]\n--2017-11-19 08:07:09--  https://ibm.ent.box.com/shared/static/cp4rkaw1pj0ggi3b8rxoxo9fvs4jecak.txt\nResolving ibm.ent.box.com (ibm.ent.box.com)... 107.152.26.211\nConnecting to ibm.ent.box.com (ibm.ent.box.com)|107.152.26.211|:443... connected.\nHTTP request sent, awaiting response... 302 Found\nLocation: https://public.boxcloud.com/d/1/ZQZmehYbylJ2pvURJ5EL5DsfXD0oaAU_rG8ec68g9hq2p9s_9UXfuI2sHgxMovTibSd7pVeynt2PwTq1riKuZwsNnVud6kMw4gQk5hjJ0iP2FUi0xc8GjK4XmOMnCJGXglOpcQHY6CRpbbJ-ro-wrEXuOcEf4WOrGsUSyJyC400DfR63khSck2YDcrjpi1YHKCtD7d4UXsdXUhAkjrIVZxEJzEXqFVWJC2Yh3QGUpBt8LQ5X7gyXtkyKHR3oZ9kbey8sac4n0lsnadJ5MgSv03gmSzjaf-VqPGaDUWcAUXsm7AVro2FiQibq_3CoqIh5EYdUq0DTkUZe01JuiiDPxPbWbn0yauQwPMv-n6Ig5eWnP4RtzAF4Tu-Il99d7fOySrEcf4wR4SbviApE2NTtVMUj6_DFtB2A537kFynNmJ7avPF0lI2FyiJhY_x0IBwX0aDct1vh3q2vAk2AIM2MQqOM47DhdwEI6FMq5rVD-hWnZngw9Bd2PCY0HgBIeIsAZtuOwYh84bAYW3wSsqudSZGoALjDDpl5I96ekmhTWDCO41XVzM7xtcAGNTNWIpOgc_jwEwNNXTt2QZ6iumdFieiKVNgtn2oaqW7ruVaNa4LhKP0-fpB_dMGMKGEKj8bOWAqY0laGy1__bNEg5Q88mQrBb8FXtv9Pm2nQ49dG62JgQ2ub5HfCXViP97Bd2GSZQb_QFCQ0ASSRiQdyp1pKOGBpFvfErGlrd8hJHAQPrPBfURfvwomVK_elPAn3oeQTro1Y1OnjjPOX5C6DLFCSmlngXETP6y-XDgY8PYha5pwA4-WqV3TMz4h8VJDR1nyCEj1zCx3SsBOpwpyKelFTd1-DzsKj0O6LtcbfroWTF7L4PdQaNu7Ukh-PBFL0bhyCzjnf_V5jObDBMMDIfLquXfy9jWr6Ghn-tr6e-L310xOeKsMt4wuvTXtYYDxv_0XoyZPy4r6ZePe3uzo-GfYtaz4F_VHrwOt6lF0Ar4LuD647sv5yrPmAAmWybN7-1rAAl6DaXYyvEeeLfA1fm03sM5_b9QoHqckH65Vad0touf97JiU2i1xanG14VswH2TckgzAtFhLN4wyvxxu3sP7Yd_f9fb2brvvnwBl0DMRI1JjYscnmbJpWXE8iq4b5fd_MZJYvFRl1KzEWIgqDyotpzQy3C_dW8IRMFdppbLxsGMvNo3yVSspiWAEw_dnlRlqWOHahQZ6-c1KglL0uKo0WCl6PhEI63FtVPvF3wmVV7kEsJYjR6CXP32TVwALEMgyaMqg1WNRUe6M./download [following]\n--2017-11-19 08:07:10--  https://public.boxcloud.com/d/1/ZQZmehYbylJ2pvURJ5EL5DsfXD0oaAU_rG8ec68g9hq2p9s_9UXfuI2sHgxMovTibSd7pVeynt2PwTq1riKuZwsNnVud6kMw4gQk5hjJ0iP2FUi0xc8GjK4XmOMnCJGXglOpcQHY6CRpbbJ-ro-wrEXuOcEf4WOrGsUSyJyC400DfR63khSck2YDcrjpi1YHKCtD7d4UXsdXUhAkjrIVZxEJzEXqFVWJC2Yh3QGUpBt8LQ5X7gyXtkyKHR3oZ9kbey8sac4n0lsnadJ5MgSv03gmSzjaf-VqPGaDUWcAUXsm7AVro2FiQibq_3CoqIh5EYdUq0DTkUZe01JuiiDPxPbWbn0yauQwPMv-n6Ig5eWnP4RtzAF4Tu-Il99d7fOySrEcf4wR4SbviApE2NTtVMUj6_DFtB2A537kFynNmJ7avPF0lI2FyiJhY_x0IBwX0aDct1vh3q2vAk2AIM2MQqOM47DhdwEI6FMq5rVD-hWnZngw9Bd2PCY0HgBIeIsAZtuOwYh84bAYW3wSsqudSZGoALjDDpl5I96ekmhTWDCO41XVzM7xtcAGNTNWIpOgc_jwEwNNXTt2QZ6iumdFieiKVNgtn2oaqW7ruVaNa4LhKP0-fpB_dMGMKGEKj8bOWAqY0laGy1__bNEg5Q88mQrBb8FXtv9Pm2nQ49dG62JgQ2ub5HfCXViP97Bd2GSZQb_QFCQ0ASSRiQdyp1pKOGBpFvfErGlrd8hJHAQPrPBfURfvwomVK_elPAn3oeQTro1Y1OnjjPOX5C6DLFCSmlngXETP6y-XDgY8PYha5pwA4-WqV3TMz4h8VJDR1nyCEj1zCx3SsBOpwpyKelFTd1-DzsKj0O6LtcbfroWTF7L4PdQaNu7Ukh-PBFL0bhyCzjnf_V5jObDBMMDIfLquXfy9jWr6Ghn-tr6e-L310xOeKsMt4wuvTXtYYDxv_0XoyZPy4r6ZePe3uzo-GfYtaz4F_VHrwOt6lF0Ar4LuD647sv5yrPmAAmWybN7-1rAAl6DaXYyvEeeLfA1fm03sM5_b9QoHqckH65Vad0touf97JiU2i1xanG14VswH2TckgzAtFhLN4wyvxxu3sP7Yd_f9fb2brvvnwBl0DMRI1JjYscnmbJpWXE8iq4b5fd_MZJYvFRl1KzEWIgqDyotpzQy3C_dW8IRMFdppbLxsGMvNo3yVSspiWAEw_dnlRlqWOHahQZ6-c1KglL0uKo0WCl6PhEI63FtVPvF3wmVV7kEsJYjR6CXP32TVwALEMgyaMqg1WNRUe6M./download\nResolving public.boxcloud.com (public.boxcloud.com)... 107.152.26.200\nConnecting to public.boxcloud.com (public.boxcloud.com)|107.152.26.200|:443... connected.\nHTTP request sent, awaiting response... 200 OK\nLength: 1075 (1.0K) [text/plain]\nSaving to: \u2018Thriller.txt\u2019\n\n100%[======================================>] 1,075       --.-K/s   in 0s      \n\n2017-11-19 08:07:10 (47.1 MB/s) - \u2018Thriller.txt\u2019 saved [1075/1075]\n\nName of the file: Thriller.txt\n"
                }
            ], 
            "cell_type": "code", 
            "metadata": {
                "scrolled": true
            }, 
            "source": "!wget -O Thriller.txt https://ibm.box.com/shared/static/cp4rkaw1pj0ggi3b8rxoxo9fvs4jecak.txt\nfile = open(\"Thriller.txt\",\"rw+\")\nprint \"Name of the file:\" , file.name"
        }, 
        {
            "execution_count": 4, 
            "outputs": [
                {
                    "output_type": "stream", 
                    "name": "stdout", 
                    "text": "Read Line: ['Thriller is the sixth studio album by the American singer Michael Jackson, released on November 30, 1982 by Epic Records. It is the follow-up to Jackson\\'s critically and commercially successful fifth studio album Off the Wall (1979). Thriller explores genres similar to those of Off the Wall, including pop, post-disco, rock and funk. Recording sessions for Thriller took place from April to November 1982 at Westlake Recording Studios in Los Angeles, California with a production budget of $750,000 (US$1,842,155 in 2016 dollars[1]), assisted by producer Quincy Jones. Of the album\\'s nine tracks, four were written by Jackson. Seven singles were released from the album, all of which reached the top 10 on the Billboard Hot 100 chart. Three of the singles had music videos released. \"Baby Be Mine\" and \"The Lady in My Life\" were the only tracks that were not released as singles from the album.\\r\\n', '\\r\\n', '[1] Federal Reserve Bank of Minneapolis Community Development Project. \"Consumer Price Index (estimate) 1800\\x96\". Federal Reserve Bank of Minneapolis. Retrieved October 21, 2016.']\n"
                }
            ], 
            "cell_type": "code", 
            "metadata": {}, 
            "source": "summary = file.readlines()\nprint \"Read Line: %s\" % (summary)"
        }, 
        {
            "execution_count": 7, 
            "outputs": [
                {
                    "output_type": "error", 
                    "ename": "ValueError", 
                    "evalue": "I/O operation on closed file", 
                    "traceback": [
                        "\u001b[0;31m\u001b[0m", 
                        "\u001b[0;31mValueError\u001b[0mTraceback (most recent call last)", 
                        "\u001b[0;32m<ipython-input-7-a4bedf6d13cb>\u001b[0m in \u001b[0;36m<module>\u001b[0;34m()\u001b[0m\n\u001b[0;32m----> 1\u001b[0;31m \u001b[0mhi\u001b[0m \u001b[0;34m=\u001b[0m \u001b[0mfile\u001b[0m\u001b[0;34m.\u001b[0m\u001b[0mreadlines\u001b[0m\u001b[0;34m(\u001b[0m\u001b[0;34m)\u001b[0m\u001b[0;34m\u001b[0m\u001b[0m\n\u001b[0m\u001b[1;32m      2\u001b[0m \u001b[0;32mprint\u001b[0m \u001b[0mhi\u001b[0m\u001b[0;34m\u001b[0m\u001b[0m\n\u001b[1;32m      3\u001b[0m \u001b[0mbuy\u001b[0m \u001b[0;34m=\u001b[0m \u001b[0mfile\u001b[0m\u001b[0;34m.\u001b[0m\u001b[0mreadlines\u001b[0m\u001b[0;34m(\u001b[0m\u001b[0;34m)\u001b[0m\u001b[0;34m\u001b[0m\u001b[0m\n\u001b[1;32m      4\u001b[0m \u001b[0;32mprint\u001b[0m \u001b[0mbuy\u001b[0m\u001b[0;34m\u001b[0m\u001b[0m\n\u001b[1;32m      5\u001b[0m \u001b[0mfile\u001b[0m\u001b[0;34m.\u001b[0m\u001b[0mclose\u001b[0m\u001b[0;34m(\u001b[0m\u001b[0;34m)\u001b[0m\u001b[0;34m\u001b[0m\u001b[0m\n", 
                        "\u001b[0;31mValueError\u001b[0m: I/O operation on closed file"
                    ]
                }
            ], 
            "cell_type": "code", 
            "metadata": {}, 
            "source": "hi = file.readlines()\nprint hi\nbuy = file.readlines()\nprint buy\nfile.close()"
        }, 
        {
            "metadata": {}, 
            "cell_type": "markdown", 
            "source": " <a id=\"ref1\"></a>\n<h2 align=center>Reading Text Files</h2>"
        }, 
        {
            "metadata": {}, 
            "cell_type": "markdown", 
            "source": "One way to read or write a file in Python is to use the built-in\u00a0**open ()**\u00a0function.\u00a0The **open** function provides a **File object** that\u00a0contain methods and attributes you need to read, save, and manipulate the file. In this notebook we will only cover \u201c.txt\u201d files. The first parameter you need is the file path and the file name. An example is shown in figure 1.\n"
        }, 
        {
            "metadata": {}, 
            "cell_type": "markdown", 
            "source": " <a ><img src = \"https://ibm.box.com/shared/static/6wl3vw4ghflafrou0noj70t2n4hbalqr.png\" width = 500, align = \"center\"></a>\n  <h4 align=center>  \n    Figure 1: Labeled Syntax of a file object.  \n\n  </h4> "
        }, 
        {
            "metadata": {}, 
            "cell_type": "markdown", 
            "source": " The mode argument is optional the default value is \u2018r\u2019. In this notebook we only cover two modes:\u00a0\n\n<li>**r** Read mode for reading files </li>\n<li>**w** Write mode for writing files</li>"
        }, 
        {
            "metadata": {}, 
            "cell_type": "markdown", 
            "source": " For the next example, we will use text file \"Example1.txt\". The file is shown in figure 2.\n"
        }, 
        {
            "metadata": {}, 
            "cell_type": "markdown", 
            "source": " <a ><img src = \"https://ibm.box.com/shared/static/ilzy3av6x1cd3gi61bq2nq0vxb0awhju.png\" width = 200, align = \"center\"></a>\n  <h4 align=center>  \n    Figure 2: The text file \"Example1.txt\"\n\n  </h4> "
        }, 
        {
            "execution_count": 8, 
            "outputs": [
                {
                    "output_type": "stream", 
                    "name": "stdout", 
                    "text": "--2017-11-14 15:19:44--  https://ibm.box.com/shared/static/cp4rkaw1pj0ggi3b8rxoxo9fvs4jecak.txt\nResolving ibm.box.com (ibm.box.com)... 107.152.26.197\nConnecting to ibm.box.com (ibm.box.com)|107.152.26.197|:443... connected.\nHTTP request sent, awaiting response... 301 Moved Permanently\nLocation: https://ibm.ent.box.com/shared/static/cp4rkaw1pj0ggi3b8rxoxo9fvs4jecak.txt [following]\n--2017-11-14 15:19:45--  https://ibm.ent.box.com/shared/static/cp4rkaw1pj0ggi3b8rxoxo9fvs4jecak.txt\nResolving ibm.ent.box.com (ibm.ent.box.com)... 107.152.26.211, 107.152.27.211\nConnecting to ibm.ent.box.com (ibm.ent.box.com)|107.152.26.211|:443... connected.\nHTTP request sent, awaiting response... 302 Found\nLocation: https://public.boxcloud.com/d/1/d9SBZGN_5uzeRW-OG__zAV9f2i3TikmN4b-B5PURiOFiBz1f2dfOctS0VwBTzRAClpXqghJfG0B1TRt8aFki2IMel4FYUijAlZF2sDjt1fJJnarBvyrE9pQv4qFu5_kZ3So_pBFVpdQ_G_VO53mQOSBEgjPFYqv1I5TtN7D59Zq2oDEP3wfZZbnr6Tybfnr8GggmyeNqkICkbwxCTPy3PRTUY3hFgw9neLbX8wKDawQ18eIFp9Q7MMwAxfuiYKIVkBfN7WUa6PnoEhlsNiRAV9Y8uTBAcm0GtrxTQPqRD-sMo6AAFFSjo1T1eMwJvnh9y_YR7XEDUZaEMtdXf_6qQnlKa6UGP_G26MY2GcWejb_YUPhsYY1JQ6IQJpdZ0v5vSpYDdAOhfoQIU7ypI0gfKsZLtKGfx14mfx96iHq8bU_lzBb1Kc3E7WSSG5K4qCRdZXk94ayP_az92X9SzNmoXZ02FeVB8JpGNq9MdaBTWxAYb99RGkK4jlNW66htTvmaJjdIMBZLbCk_jD4Th9qsayhuItxLXRxt4DiCd4qJpbrVuyEKK-wn212DzOPhcOFWwED7-sPNHAikB4GI0v5rHjpQ8HhalnHO59aBx9QQZ5B6hns4M1jqtEoL1aAlqw0H2r2YjCMBu4aO8DrDDs322-xJDNdqV0sgBPyOQLQYD6NDteS7l0qXVR7otpj10r78kTNR6_sbBtTA9QVYWypZKqM1gLvNFUoNYOVzjCCWO5ZFqgQqTtCF0QdFK8qF1zx-f5q2tjTpOQ6ROY5UZ1lS_NPsvfPzgFA75Tf0ZiPaNpuZzyo3nsaiwCUPYvAhTFqbnoaWK9YT1GTDmfXqqw3UuwmH9QfZwl1MKnyLiQOH_L9MpMyZt9nFSRzqQSFK8VClxLrIUdg5bkbaKI6bAf2YAErmqZ1W4Nbv6iI1hVaCtiQuGN3sk3Xsa4C2eLd9Hh5dozVloRdWDx7ota_k6kdLZFdrulTErcvk2lCmODsqZVfGXki_Nwgakc_OgSn5xnXmog-PZwBSwl5XUTOCunXezTikOQQ1n4xVMWrCi7CNf4VmzZBF8zmn8WR3LfNyFHJ4G-bsy7w0cJlC1GZdWW9jI8S6fdfXkOrYnLJYf-4YZKLSDJJjHkEPymHXUyla09f6bVAdoQqmI5zR_ep7q3QuxpWZjPotWGTf9edOLmGciEYJLDbokUfloRw7aERjfA7gDJF0ph3gSQZ4C-exW7p9RKlLtLw1Z2qcXw95wgLUfDZnr18Bvfb0tfUT55xNnENPRNo./download [following]\n--2017-11-14 15:19:45--  https://public.boxcloud.com/d/1/d9SBZGN_5uzeRW-OG__zAV9f2i3TikmN4b-B5PURiOFiBz1f2dfOctS0VwBTzRAClpXqghJfG0B1TRt8aFki2IMel4FYUijAlZF2sDjt1fJJnarBvyrE9pQv4qFu5_kZ3So_pBFVpdQ_G_VO53mQOSBEgjPFYqv1I5TtN7D59Zq2oDEP3wfZZbnr6Tybfnr8GggmyeNqkICkbwxCTPy3PRTUY3hFgw9neLbX8wKDawQ18eIFp9Q7MMwAxfuiYKIVkBfN7WUa6PnoEhlsNiRAV9Y8uTBAcm0GtrxTQPqRD-sMo6AAFFSjo1T1eMwJvnh9y_YR7XEDUZaEMtdXf_6qQnlKa6UGP_G26MY2GcWejb_YUPhsYY1JQ6IQJpdZ0v5vSpYDdAOhfoQIU7ypI0gfKsZLtKGfx14mfx96iHq8bU_lzBb1Kc3E7WSSG5K4qCRdZXk94ayP_az92X9SzNmoXZ02FeVB8JpGNq9MdaBTWxAYb99RGkK4jlNW66htTvmaJjdIMBZLbCk_jD4Th9qsayhuItxLXRxt4DiCd4qJpbrVuyEKK-wn212DzOPhcOFWwED7-sPNHAikB4GI0v5rHjpQ8HhalnHO59aBx9QQZ5B6hns4M1jqtEoL1aAlqw0H2r2YjCMBu4aO8DrDDs322-xJDNdqV0sgBPyOQLQYD6NDteS7l0qXVR7otpj10r78kTNR6_sbBtTA9QVYWypZKqM1gLvNFUoNYOVzjCCWO5ZFqgQqTtCF0QdFK8qF1zx-f5q2tjTpOQ6ROY5UZ1lS_NPsvfPzgFA75Tf0ZiPaNpuZzyo3nsaiwCUPYvAhTFqbnoaWK9YT1GTDmfXqqw3UuwmH9QfZwl1MKnyLiQOH_L9MpMyZt9nFSRzqQSFK8VClxLrIUdg5bkbaKI6bAf2YAErmqZ1W4Nbv6iI1hVaCtiQuGN3sk3Xsa4C2eLd9Hh5dozVloRdWDx7ota_k6kdLZFdrulTErcvk2lCmODsqZVfGXki_Nwgakc_OgSn5xnXmog-PZwBSwl5XUTOCunXezTikOQQ1n4xVMWrCi7CNf4VmzZBF8zmn8WR3LfNyFHJ4G-bsy7w0cJlC1GZdWW9jI8S6fdfXkOrYnLJYf-4YZKLSDJJjHkEPymHXUyla09f6bVAdoQqmI5zR_ep7q3QuxpWZjPotWGTf9edOLmGciEYJLDbokUfloRw7aERjfA7gDJF0ph3gSQZ4C-exW7p9RKlLtLw1Z2qcXw95wgLUfDZnr18Bvfb0tfUT55xNnENPRNo./download\nResolving public.boxcloud.com (public.boxcloud.com)... 107.152.26.200\nConnecting to public.boxcloud.com (public.boxcloud.com)|107.152.26.200|:443... connected.\nHTTP request sent, awaiting response... 200 OK\nLength: 1075 (1.0K) [text/plain]\nSaving to: \u2018/resources/data/Example1.txt\u2019\n\n/resources/data/Exa 100%[===================>]   1.05K  --.-KB/s    in 0s      \n\n2017-11-14 15:19:46 (34.5 MB/s) - \u2018/resources/data/Example1.txt\u2019 saved [1075/1075]\n\n"
                }
            ], 
            "cell_type": "code", 
            "metadata": {}, 
            "source": "!wget -O /resources/data/Example1.txt https://ibm.box.com/shared/static/cp4rkaw1pj0ggi3b8rxoxo9fvs4jecak.txt\nexample1=\"Example1.txt\"\nfile1 = open(\"/resources/data/Example1.txt\",\"r\")"
        }, 
        {
            "metadata": {}, 
            "cell_type": "markdown", 
            "source": " We can view the attributes of the file, including..."
        }, 
        {
            "metadata": {}, 
            "cell_type": "markdown", 
            "source": "The name of the file:"
        }, 
        {
            "execution_count": 9, 
            "outputs": [
                {
                    "execution_count": 9, 
                    "output_type": "execute_result", 
                    "data": {
                        "text/plain": "'/resources/data/Example1.txt'"
                    }, 
                    "metadata": {}
                }
            ], 
            "cell_type": "code", 
            "metadata": {}, 
            "source": "file1.name"
        }, 
        {
            "metadata": {}, 
            "cell_type": "markdown", 
            "source": " The mode the file object is in:"
        }, 
        {
            "execution_count": 10, 
            "outputs": [
                {
                    "execution_count": 10, 
                    "output_type": "execute_result", 
                    "data": {
                        "text/plain": "'r'"
                    }, 
                    "metadata": {}
                }
            ], 
            "cell_type": "code", 
            "metadata": {}, 
            "source": "file1.mode"
        }, 
        {
            "metadata": {}, 
            "cell_type": "markdown", 
            "source": "We can read the file and set it to a variable :"
        }, 
        {
            "execution_count": 11, 
            "outputs": [
                {
                    "execution_count": 11, 
                    "output_type": "execute_result", 
                    "data": {
                        "text/plain": "'Thriller is the sixth studio album by the American singer Michael Jackson, released on November 30, 1982 by Epic Records. It is the follow-up to Jackson\\'s critically and commercially successful fifth studio album Off the Wall (1979). Thriller explores genres similar to those of Off the Wall, including pop, post-disco, rock and funk. Recording sessions for Thriller took place from April to November 1982 at Westlake Recording Studios in Los Angeles, California with a production budget of $750,000 (US$1,842,155 in 2016 dollars[1]), assisted by producer Quincy Jones. Of the album\\'s nine tracks, four were written by Jackson. Seven singles were released from the album, all of which reached the top 10 on the Billboard Hot 100 chart. Three of the singles had music videos released. \"Baby Be Mine\" and \"The Lady in My Life\" were the only tracks that were not released as singles from the album.\\r\\n\\r\\n[1] Federal Reserve Bank of Minneapolis Community Development Project. \"Consumer Price Index (estimate) 1800\\x96\". Federal Reserve Bank of Minneapolis. Retrieved October 21, 2016.'"
                    }, 
                    "metadata": {}
                }
            ], 
            "cell_type": "code", 
            "metadata": {}, 
            "source": "FileContent=file1.read()\nFileContent"
        }, 
        {
            "metadata": {}, 
            "cell_type": "markdown", 
            "source": "The \u201c/n\u201d tells python that there is a new line. The file is of type string:"
        }, 
        {
            "execution_count": 12, 
            "outputs": [
                {
                    "execution_count": 12, 
                    "output_type": "execute_result", 
                    "data": {
                        "text/plain": "str"
                    }, 
                    "metadata": {}
                }
            ], 
            "cell_type": "code", 
            "metadata": {}, 
            "source": "type(FileContent)"
        }, 
        {
            "metadata": {}, 
            "cell_type": "markdown", 
            "source": " We must close the file object:"
        }, 
        {
            "execution_count": 13, 
            "outputs": [], 
            "cell_type": "code", 
            "metadata": {
                "collapsed": true
            }, 
            "source": "file1.close()"
        }, 
        {
            "metadata": {}, 
            "cell_type": "markdown", 
            "source": " <h3> A  Better Way to Open a File </h3>"
        }, 
        {
            "metadata": {}, 
            "cell_type": "markdown", 
            "source": " Using a with statement is better practice, it automatically closes the file even if the code encounters an exception. The code will run everything in the indent block then close the file."
        }, 
        {
            "execution_count": 14, 
            "outputs": [], 
            "cell_type": "code", 
            "metadata": {}, 
            "source": "with open(\"/resources/data/Example1.txt\",\"r\") as file1:\n    FileContent=file1.read()\n"
        }, 
        {
            "execution_count": 15, 
            "outputs": [
                {
                    "output_type": "stream", 
                    "name": "stdout", 
                    "text": "Thriller is the sixth studio album by the American singer Michael Jackson, released on November 30, 1982 by Epic Records. It is the follow-up to Jackson's critically and commercially successful fifth studio album Off the Wall (1979). Thriller explores genres similar to those of Off the Wall, including pop, post-disco, rock and funk. Recording sessions for Thriller took place from April to November 1982 at Westlake Recording Studios in Los Angeles, California with a production budget of $750,000 (US$1,842,155 in 2016 dollars[1]), assisted by producer Quincy Jones. Of the album's nine tracks, four were written by Jackson. Seven singles were released from the album, all of which reached the top 10 on the Billboard Hot 100 chart. Three of the singles had music videos released. \"Baby Be Mine\" and \"The Lady in My Life\" were the only tracks that were not released as singles from the album.\r\n\r\n[1] Federal Reserve Bank of Minneapolis Community Development Project. \"Consumer Price Index (estimate) 1800\ufffd\". Federal Reserve Bank of Minneapolis. Retrieved October 21, 2016.\n"
                }
            ], 
            "cell_type": "code", 
            "metadata": {}, 
            "source": "print(FileContent)"
        }, 
        {
            "execution_count": 16, 
            "outputs": [
                {
                    "execution_count": 16, 
                    "output_type": "execute_result", 
                    "data": {
                        "text/plain": "'Thriller is the sixth studio album by the American singer Michael Jackson, released on November 30, 1982 by Epic Records. It is the follow-up to Jackson\\'s critically and commercially successful fifth studio album Off the Wall (1979). Thriller explores genres similar to those of Off the Wall, including pop, post-disco, rock and funk. Recording sessions for Thriller took place from April to November 1982 at Westlake Recording Studios in Los Angeles, California with a production budget of $750,000 (US$1,842,155 in 2016 dollars[1]), assisted by producer Quincy Jones. Of the album\\'s nine tracks, four were written by Jackson. Seven singles were released from the album, all of which reached the top 10 on the Billboard Hot 100 chart. Three of the singles had music videos released. \"Baby Be Mine\" and \"The Lady in My Life\" were the only tracks that were not released as singles from the album.\\r\\n\\r\\n[1] Federal Reserve Bank of Minneapolis Community Development Project. \"Consumer Price Index (estimate) 1800\\x96\". Federal Reserve Bank of Minneapolis. Retrieved October 21, 2016.'"
                    }, 
                    "metadata": {}
                }
            ], 
            "cell_type": "code", 
            "metadata": {}, 
            "source": "FileContent"
        }, 
        {
            "metadata": {}, 
            "cell_type": "markdown", 
            "source": " The file object is closed, you can verify it by running the following cell:  "
        }, 
        {
            "execution_count": 17, 
            "outputs": [
                {
                    "execution_count": 17, 
                    "output_type": "execute_result", 
                    "data": {
                        "text/plain": "True"
                    }, 
                    "metadata": {}
                }
            ], 
            "cell_type": "code", 
            "metadata": {}, 
            "source": "file1.closed"
        }, 
        {
            "metadata": {}, 
            "cell_type": "markdown", 
            "source": "The syntax is a little confusing as the file object is after the \u201cas\u201d statement. Also we don\u2019t explicitly close the file. Therefor we summarize the steps in figure 3.   \n"
        }, 
        {
            "metadata": {}, 
            "cell_type": "markdown", 
            "source": " <a ><img src = \"https://ibm.box.com/shared/static/ywul1ji1ld82xwz60ljxvbg6fs2vrunm.png\" width = 500, align = \"center\"></a>\n  <h4 align=center>  \n    Figure 3: Syntax for opening a file with a with statement.\n\n  </h4> "
        }, 
        {
            "metadata": {}, 
            "cell_type": "markdown", 
            "source": "We don\u2019t have to read the entire file, for example we can read the first 4 characters by entering three as a parameter to the method \u201c.read()\u201d         \n"
        }, 
        {
            "execution_count": 19, 
            "outputs": [
                {
                    "output_type": "stream", 
                    "name": "stdout", 
                    "text": "Thri\n"
                }
            ], 
            "cell_type": "code", 
            "metadata": {}, 
            "source": "with open(\"/resources/data/Example1.txt\",\"r\") as file1:\n    print(file1.read(4))"
        }, 
        {
            "metadata": {}, 
            "cell_type": "markdown", 
            "source": "Once the method \u201c.read(4)\u201d is called  the first 4 characters are called, if we call the method again the next four characters are called. The output for the following cell will demonstrate the process for different inputs to the method \u201cread() \u201c  \n"
        }, 
        {
            "execution_count": 21, 
            "outputs": [
                {
                    "output_type": "stream", 
                    "name": "stdout", 
                    "text": "Thri\nller\n is the\n sixth studio a\n"
                }
            ], 
            "cell_type": "code", 
            "metadata": {}, 
            "source": "with open(\"/resources/data/Example1.txt\",\"r\") as file1:\n    print(file1.read(4))\n    print(file1.read(4))\n    print(file1.read(7))\n    print(file1.read(15))\n"
        }, 
        {
            "metadata": {}, 
            "cell_type": "markdown", 
            "source": " The process is illustrated in figure  4,  each color represents the part of the file read after the method \u201cread()\u201d is called.\n"
        }, 
        {
            "metadata": {}, 
            "cell_type": "markdown", 
            "source": " <a ><img src = \"https://ibm.box.com/shared/static/s0xs6y4vcvabp2ll2pwspa6kd8qeoddj.png\" width = 500, align = \"center\"></a>\n  <h4 align=center>  \n    Figure 4: Syntax for opening a file with a with statement.\n\n  </h4> "
        }, 
        {
            "metadata": {}, 
            "cell_type": "markdown", 
            "source": "We can also read one line of the file at a time using the method readline: "
        }, 
        {
            "execution_count": 23, 
            "outputs": [
                {
                    "output_type": "stream", 
                    "name": "stdout", 
                    "text": "first line: Thriller is the sixth studio album by the American singer Michael Jackson, released on November 30, 1982 by Epic Records. It is the follow-up to Jackson's critically and commercially successful fifth studio album Off the Wall (1979). Thriller explores genres similar to those of Off the Wall, including pop, post-disco, rock and funk. Recording sessions for Thriller took place from April to November 1982 at Westlake Recording Studios in Los Angeles, California with a production budget of $750,000 (US$1,842,155 in 2016 dollars[1]), assisted by producer Quincy Jones. Of the album's nine tracks, four were written by Jackson. Seven singles were released from the album, all of which reached the top 10 on the Billboard Hot 100 chart. Three of the singles had music videos released. \"Baby Be Mine\" and \"The Lady in My Life\" were the only tracks that were not released as singles from the album.\r\n\n"
                }
            ], 
            "cell_type": "code", 
            "metadata": {}, 
            "source": " with open(\"/resources/data/Example1.txt\",\"r\") as file1:\n    print(\"first line: \" + file1.readline())"
        }, 
        {
            "metadata": {}, 
            "cell_type": "markdown", 
            "source": " We can use a loop to iterate through each line. \n"
        }, 
        {
            "execution_count": 24, 
            "outputs": [
                {
                    "output_type": "stream", 
                    "name": "stdout", 
                    "text": "('Iteration', '0', ':', 'Thriller is the sixth studio album by the American singer Michael Jackson, released on November 30, 1982 by Epic Records. It is the follow-up to Jackson\\'s critically and commercially successful fifth studio album Off the Wall (1979). Thriller explores genres similar to those of Off the Wall, including pop, post-disco, rock and funk. Recording sessions for Thriller took place from April to November 1982 at Westlake Recording Studios in Los Angeles, California with a production budget of $750,000 (US$1,842,155 in 2016 dollars[1]), assisted by producer Quincy Jones. Of the album\\'s nine tracks, four were written by Jackson. Seven singles were released from the album, all of which reached the top 10 on the Billboard Hot 100 chart. Three of the singles had music videos released. \"Baby Be Mine\" and \"The Lady in My Life\" were the only tracks that were not released as singles from the album.\\r\\n')\n('Iteration', '1', ':', '\\r\\n')\n('Iteration', '2', ':', '[1] Federal Reserve Bank of Minneapolis Community Development Project. \"Consumer Price Index (estimate) 1800\\x96\". Federal Reserve Bank of Minneapolis. Retrieved October 21, 2016.')\n"
                }
            ], 
            "cell_type": "code", 
            "metadata": {}, 
            "source": " with open(\"/resources/data/Example1.txt\",\"r\") as file1:\n        i=0;\n        for line in file1:\n            print(\"Iteration\" ,str(i),\":\",line)\n            i=i+1;"
        }, 
        {
            "metadata": {}, 
            "cell_type": "markdown", 
            "source": "We can use the method \u201c readline()\u201d  to save the text file to a list. "
        }, 
        {
            "execution_count": 25, 
            "outputs": [], 
            "cell_type": "code", 
            "metadata": {
                "collapsed": true
            }, 
            "source": "with open(\"/resources/data/Example1.txt\",\"r\") as file1:\n    FileasList=file1.readlines()"
        }, 
        {
            "metadata": {}, 
            "cell_type": "markdown", 
            "source": " Each element of the list corresponds to a line of text."
        }, 
        {
            "execution_count": 26, 
            "outputs": [
                {
                    "execution_count": 26, 
                    "output_type": "execute_result", 
                    "data": {
                        "text/plain": "'Thriller is the sixth studio album by the American singer Michael Jackson, released on November 30, 1982 by Epic Records. It is the follow-up to Jackson\\'s critically and commercially successful fifth studio album Off the Wall (1979). Thriller explores genres similar to those of Off the Wall, including pop, post-disco, rock and funk. Recording sessions for Thriller took place from April to November 1982 at Westlake Recording Studios in Los Angeles, California with a production budget of $750,000 (US$1,842,155 in 2016 dollars[1]), assisted by producer Quincy Jones. Of the album\\'s nine tracks, four were written by Jackson. Seven singles were released from the album, all of which reached the top 10 on the Billboard Hot 100 chart. Three of the singles had music videos released. \"Baby Be Mine\" and \"The Lady in My Life\" were the only tracks that were not released as singles from the album.\\r\\n'"
                    }, 
                    "metadata": {}
                }
            ], 
            "cell_type": "code", 
            "metadata": {}, 
            "source": "FileasList[0]"
        }, 
        {
            "execution_count": 27, 
            "outputs": [
                {
                    "execution_count": 27, 
                    "output_type": "execute_result", 
                    "data": {
                        "text/plain": "'\\r\\n'"
                    }, 
                    "metadata": {}
                }
            ], 
            "cell_type": "code", 
            "metadata": {}, 
            "source": "FileasList[1]"
        }, 
        {
            "execution_count": 28, 
            "outputs": [
                {
                    "execution_count": 28, 
                    "output_type": "execute_result", 
                    "data": {
                        "text/plain": "'[1] Federal Reserve Bank of Minneapolis Community Development Project. \"Consumer Price Index (estimate) 1800\\x96\". Federal Reserve Bank of Minneapolis. Retrieved October 21, 2016.'"
                    }, 
                    "metadata": {}
                }
            ], 
            "cell_type": "code", 
            "metadata": {}, 
            "source": "FileasList[2]"
        }, 
        {
            "metadata": {}, 
            "cell_type": "markdown", 
            "source": "<a id=\"ref3\"></a>\n<h2 align=center>Writing Files</h2>"
        }, 
        {
            "metadata": {}, 
            "cell_type": "markdown", 
            "source": " We can use the method \u201c readline()\u201d  to save the text file to a list. "
        }, 
        {
            "metadata": {}, 
            "cell_type": "markdown", 
            "source": " In order to write a mode argument to write \u2018w\u2019.\nLet\u2019s write a file \u201cExample2.txt\u201d with the line: \u201cThis is line A\u201d\n\n\n"
        }, 
        {
            "execution_count": 29, 
            "outputs": [], 
            "cell_type": "code", 
            "metadata": {
                "collapsed": true
            }, 
            "source": "with open('Example2.txt','w') as writefile:\n    writefile.write(\"This is line A\")"
        }, 
        {
            "metadata": {}, 
            "cell_type": "markdown", 
            "source": " we can read the file to see if it worked"
        }, 
        {
            "execution_count": 30, 
            "outputs": [
                {
                    "output_type": "stream", 
                    "name": "stdout", 
                    "text": "This is line A\n"
                }
            ], 
            "cell_type": "code", 
            "metadata": {}, 
            "source": "with open('Example2.txt','r') as testwritefile:\n    print(testwritefile.read())"
        }, 
        {
            "metadata": {}, 
            "cell_type": "markdown", 
            "source": "We can write multiple lines:"
        }, 
        {
            "execution_count": 31, 
            "outputs": [], 
            "cell_type": "code", 
            "metadata": {
                "collapsed": true
            }, 
            "source": "with open('Example2.txt','w') as writefile:\n    writefile.write(\"This is line A\\n\")\n    writefile.write(\"This is line B\\n\")"
        }, 
        {
            "metadata": {}, 
            "cell_type": "markdown", 
            "source": "The method  \u201c.write()\u201d works similar to the method  \u201c.readline()\u201d,  except instead of reading a new line it writes a new line. The process is illustrated in figure 5, the different color coding of the grid represents a new line added after each method call.   "
        }, 
        {
            "metadata": {}, 
            "cell_type": "markdown", 
            "source": " <a ><img src = \"https://ibm.box.com/shared/static/4d86eysjv7fiy5nocgvpbddyj2uckw6z.png\" width = 500, align = \"center\"></a>\n  <h4 align=center>  \n    Figure 4: An example of \u201c.write()\u201d,the different color coding of the grid represents a new line added after each method call.\n\n\n  </h4> "
        }, 
        {
            "metadata": {}, 
            "cell_type": "markdown", 
            "source": "You can check the file to see if your results are correct "
        }, 
        {
            "execution_count": 32, 
            "outputs": [
                {
                    "output_type": "stream", 
                    "name": "stdout", 
                    "text": "This is line A\nThis is line B\n\n"
                }
            ], 
            "cell_type": "code", 
            "metadata": {}, 
            "source": "with open('Example2.txt','r') as testwritefile:\n    print(testwritefile.read())"
        }, 
        {
            "metadata": {}, 
            "cell_type": "markdown", 
            "source": " We write a list to a \".txt\" file."
        }, 
        {
            "execution_count": 33, 
            "outputs": [
                {
                    "execution_count": 33, 
                    "output_type": "execute_result", 
                    "data": {
                        "text/plain": "['This is line A\\n', 'This is line B\\n', 'This is line C\\n']"
                    }, 
                    "metadata": {}
                }
            ], 
            "cell_type": "code", 
            "metadata": {}, 
            "source": "Lines=[\"This is line A\\n\",\"This is line B\\n\",\"This is line C\\n\"]\nLines"
        }, 
        {
            "execution_count": 34, 
            "outputs": [
                {
                    "output_type": "stream", 
                    "name": "stdout", 
                    "text": "This is line A\n\nThis is line B\n\nThis is line C\n\n"
                }
            ], 
            "cell_type": "code", 
            "metadata": {}, 
            "source": "with open('Example2.txt','w') as writefile:\n    for line in Lines:\n        print(line)\n        writefile.write(line)"
        }, 
        {
            "execution_count": 35, 
            "outputs": [
                {
                    "output_type": "stream", 
                    "name": "stdout", 
                    "text": "This is line A\nThis is line B\nThis is line C\n\n"
                }
            ], 
            "cell_type": "code", 
            "metadata": {}, 
            "source": "with open('Example2.txt','r') as testwritefile:\n    print(testwritefile.read())"
        }, 
        {
            "metadata": {}, 
            "cell_type": "markdown", 
            "source": "#### Copy a file "
        }, 
        {
            "metadata": {
                "collapsed": true
            }, 
            "cell_type": "markdown", 
            "source": "Lets copy the file \u201cExample1.txt\u201d to the file \u201cExample3.txt\u201d"
        }, 
        {
            "execution_count": 37, 
            "outputs": [], 
            "cell_type": "code", 
            "metadata": {}, 
            "source": "with open('/resources/data/Example1.txt','r') as readfile:\n    with open('Example3.txt','w') as writefile:\n          for line in readfile:\n                writefile.write(line)"
        }, 
        {
            "metadata": {}, 
            "cell_type": "markdown", 
            "source": "We can read the file to see if everything works:"
        }, 
        {
            "execution_count": 38, 
            "outputs": [
                {
                    "output_type": "stream", 
                    "name": "stdout", 
                    "text": "Thriller is the sixth studio album by the American singer Michael Jackson, released on November 30, 1982 by Epic Records. It is the follow-up to Jackson's critically and commercially successful fifth studio album Off the Wall (1979). Thriller explores genres similar to those of Off the Wall, including pop, post-disco, rock and funk. Recording sessions for Thriller took place from April to November 1982 at Westlake Recording Studios in Los Angeles, California with a production budget of $750,000 (US$1,842,155 in 2016 dollars[1]), assisted by producer Quincy Jones. Of the album's nine tracks, four were written by Jackson. Seven singles were released from the album, all of which reached the top 10 on the Billboard Hot 100 chart. Three of the singles had music videos released. \"Baby Be Mine\" and \"The Lady in My Life\" were the only tracks that were not released as singles from the album.\r\n\r\n[1] Federal Reserve Bank of Minneapolis Community Development Project. \"Consumer Price Index (estimate) 1800\ufffd\". Federal Reserve Bank of Minneapolis. Retrieved October 21, 2016.\n"
                }
            ], 
            "cell_type": "code", 
            "metadata": {}, 
            "source": "with open('Example3.txt','r') as testwritefile:\n    print(testwritefile.read())"
        }, 
        {
            "metadata": {}, 
            "cell_type": "markdown", 
            "source": " After reading files, we can also write data into files and save them in different file formats like **.txt, .csv, .xls (for excel files) etc**. Let's take a look at some examples."
        }, 
        {
            "metadata": {}, 
            "cell_type": "markdown", 
            "source": "<h3 style=\"font-size:115%\">Exporting as Text File</h3>"
        }, 
        {
            "metadata": {}, 
            "cell_type": "markdown", 
            "source": "Suppose we want to export the summary to **.txt** file. To do so, we can use **writelines()** method which writes into the file and saves that file to disk, in the specified directory.\n\nLet's create a txt file and try to save the summary text into the file."
        }, 
        {
            "execution_count": 40, 
            "outputs": [], 
            "cell_type": "code", 
            "metadata": {}, 
            "source": "music_txt_file = open(\"/resources/data/Example1.txt\", \"w\")\nmusic_txt_file.writelines(summary)\nmusic_txt_file.close() "
        }, 
        {
            "metadata": {}, 
            "cell_type": "markdown", 
            "source": "Now go to the directory to ensure the .txt file exists and contains the summary data that we wrote."
        }, 
        {
            "metadata": {}, 
            "cell_type": "markdown", 
            "source": "<h3 style=\"font-size:115%\">Exporting as .csv File</h3>"
        }, 
        {
            "metadata": {}, 
            "cell_type": "markdown", 
            "source": "Next, let's write the summary data to a csv file."
        }, 
        {
            "execution_count": 49, 
            "outputs": [
                {
                    "output_type": "stream", 
                    "name": "stdout", 
                    "text": " Mike \n"
                }
            ], 
            "cell_type": "code", 
            "metadata": {}, 
            "source": "music_csv_file = open(\"/resources/data/Example1.txt\", \"w\")\nmusic_csv_file.writelines(summary) \nmusic_csv_file.close() \n\nmy_tuple = (123, 'Mike')\ns = ' mike '\nprint s.title()\n"
        }, 
        {
            "metadata": {}, 
            "cell_type": "markdown", 
            "source": "When you check the file, you will notice that data is put into a new column wherever there was a comma."
        }, 
        {
            "metadata": {}, 
            "cell_type": "markdown", 
            "source": "<h3 style=\"font-size:115%\">Exporting as Excel File</h3>"
        }, 
        {
            "metadata": {}, 
            "cell_type": "markdown", 
            "source": "Next, let's write the summary data to an Excel file."
        }, 
        {
            "execution_count": null, 
            "outputs": [], 
            "cell_type": "code", 
            "metadata": {
                "collapsed": true
            }, 
            "source": "music_xls_file = open(\"../resources/data/music_xlsx_file.xls\", \"w\")\nmusic_xls_file.writelines(summary) \nmusic_xls_file.close() "
        }, 
        {
            "metadata": {}, 
            "cell_type": "markdown", 
            "source": "When you check the file, you will notice that data is put into and Excel file, in the first column, rows 1 to 3."
        }, 
        {
            "metadata": {}, 
            "cell_type": "markdown", 
            "source": "<hr>\n### About the Author:  \nThis notebook was updated by  [Joseph Santarcangelo]( https://www.linkedin.com/in/joseph-s-50398b136/) \n\n\nHi! It's  [Agatha Colangelo](https://www.linkedin.com/in/agathacolangelo), the author of this notebook. I hope you found Python easy to learn! There's lots more to learn about Python but you're well on your way. Feel free to connect with me if you have any questions."
        }, 
        {
            "metadata": {}, 
            "cell_type": "markdown", 
            "source": "<hr>\nCopyright &copy; 2016 [Big Data University](https://bigdatauniversity.com/?utm_source=bducopyrightlink&utm_medium=dswb&utm_campaign=bdu). This notebook and its source code are released under the terms of the [MIT License](https://bigdatauniversity.com/mit-license/)."
        }
    ], 
    "nbformat": 4
}