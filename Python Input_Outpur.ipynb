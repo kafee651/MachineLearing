{
    "metadata": {
        "widgets": {
            "state": {}, 
            "version": "1.1.2"
        }, 
        "language_info": {
            "file_extension": ".py", 
            "mimetype": "text/x-python", 
            "codemirror_mode": {
                "version": 2, 
                "name": "ipython"
            }, 
            "pygments_lexer": "ipython2", 
            "name": "python", 
            "version": "2.7.11", 
            "nbconvert_exporter": "python"
        }, 
        "kernelspec": {
            "display_name": "Python 2 with Spark 1.6 (Unsupported)", 
            "language": "python", 
            "name": "python2"
        }
    }, 
    "cells": [
        {
            "metadata": {}, 
            "cell_type": "markdown", 
            "source": " <a href=\"https://cognitiveclass.ai\n\"><img src = \"https://ibm.box.com/shared/static/kpwal4mklabkeipypfo47rrm8xq0lslk.jpg\" width = 300, align = \"center\"></a>\n\n<h1 align=center><font size = 5>Reading, Writing and Saving Files in PYTHON</font></h1>"
        }, 
        {
            "metadata": {}, 
            "cell_type": "markdown", 
            "source": "<br>"
        }, 
        {
            "metadata": {}, 
            "cell_type": "markdown", 
            "source": "This notebook will provide information regarding reading, writing, and saving data into various types of files like text files, CSV files, Excel files etc., including matrices."
        }, 
        {
            "metadata": {}, 
            "cell_type": "markdown", 
            "source": "## Table of Contents\n\n\n<div class=\"alert alert-block alert-info\" style=\"margin-top: 20px\">\n<li><a href=\"#ref0\">About the Dataset</a></li>\n<li><a href=\"#ref1\">Reading Text Files</a></li>\n<li><a href=\"#ref3\">Writing and Saving to Files</a></li>\n<li><a href=\"#ref4\">Writing and Saving Matrices to Files</a></li>\n<br>\n<p></p>\nEstimated Time Needed: <strong>15 min</strong>\n</div>\n\n<hr>"
        }, 
        {
            "metadata": {}, 
            "cell_type": "markdown", 
            "source": "<a id=\"ref0\"></a>\n<h2 align=center>About the Dataset</h2>"
        }, 
        {
            "metadata": {}, 
            "cell_type": "markdown", 
            "source": "In this module, we are going to use the **Thriller.txt** file. This file contains text data which is basically summary of the **Thriller** album.\n\nThis is how our data looks like."
        }, 
        {
            "metadata": {}, 
            "cell_type": "markdown", 
            "source": "<font face=\"courier new\" size=\"2\">Thriller is the sixth studio album by the American singer Michael Jackson, released on November 30, 1982 by Epic Records. It is the follow-up to Jackson's critically and commercially successful fifth studio album Off the Wall (1979). Thriller explores genres similar to those of Off the Wall, including pop, post-disco, rock and funk. Recording sessions for Thriller took place from April to November 1982 at Westlake Recording Studios in Los Angeles, California with a production budget of \\$750,000 (US \\$1,842,155 in 2016 dollars[1]), assisted by producer Quincy Jones. Of the album's nine tracks, four were written by Jackson. Seven singles were released from the album, all of which reached the top 10 on the Billboard Hot 100 chart. Three of the singles had music videos released. \"Baby Be Mine\" and \"The Lady in My Life\" were the only tracks that were not released as singles from the album.\n\n[1] Federal Reserve Bank of Minneapolis Community Development Project. \"Consumer Price Index (estimate) 1800\u2013\". Federal Reserve Bank of Minneapolis. Retrieved October 21, 2016.</font>\n\nSource: https://en.wikipedia.org/wiki/Thriller_(Michael_Jackson_album)"
        }, 
        {
            "metadata": {}, 
            "cell_type": "markdown", 
            "source": "To load the data into the work bench, first run the code mentioned below."
        }, 
        {
            "metadata": {}, 
            "cell_type": "markdown", 
            "source": "<hr>"
        }, 
        {
            "metadata": {}, 
            "cell_type": "markdown", 
            "source": ""
        }, 
        {
            "metadata": {}, 
            "cell_type": "markdown", 
            "source": "To read text files in Python, we can use the built-in function **readlines()**. This function takes **file path** as the argument and read the whole file.\n\nLet's read the **Thriller.txt** file and see how it looks like."
        }, 
        {
            "outputs": [
                {
                    "output_type": "stream", 
                    "text": "--2017-11-19 08:20:27--  https://ibm.box.com/shared/static/cp4rkaw1pj0ggi3b8rxoxo9fvs4jecak.txt\nResolving ibm.box.com (ibm.box.com)... 107.152.27.197\nConnecting to ibm.box.com (ibm.box.com)|107.152.27.197|:443... connected.\nHTTP request sent, awaiting response... 301 Moved Permanently\nLocation: https://ibm.ent.box.com/shared/static/cp4rkaw1pj0ggi3b8rxoxo9fvs4jecak.txt [following]\n--2017-11-19 08:20:27--  https://ibm.ent.box.com/shared/static/cp4rkaw1pj0ggi3b8rxoxo9fvs4jecak.txt\nResolving ibm.ent.box.com (ibm.ent.box.com)... 107.152.24.211, 107.152.25.211\nConnecting to ibm.ent.box.com (ibm.ent.box.com)|107.152.24.211|:443... connected.\nHTTP request sent, awaiting response... 302 Found\nLocation: https://public.boxcloud.com/d/1/MUuK1cYwLHxKbBPcKA3sbIScKtY18rtGs6DvE_fYkxm_7THAxrjLRbfYn1eP-ts1kWxx3f5aP0RXJfHAIKyJSp-K_ZWtR1PXNF5LlNKMqLlkoZPlhR8yZug95SnnozNhBPALwT27msDGA-jzmkfcleRxojzMnM_tYhtzZ0mltb4C6gCeHJd3D4RIXV-K2Y0OKu4k1E5mGaSmtzKvA1zRahImxKYtZsHMgmjvsqhb5gR9LwgQXZVwG7q5pw2gBak_PV971kkqavtrhpXU_xpJ1LqD-vNqpQO7D-dy7gYKntWmfRzuoKq5MgSIMg99FSTjIzfHL9M0O6yPMi1HviaNqtpPAolk8I5SlKT3k7SphC1Tg2h9sdwk6mpe7kS-IyYPbOVizwKC6dUvqUNeW-M04a5R4ke2rthAVu0k004ypCFvX9rdnmsyOduKh2JE5-gJV7pnsTYtwO87NZUmKUWx5CJb5WDVH6gZSpvs5bI7vvidN5LjGWiZ7kwOtQfH7uh9kbKijz_m474SuryBEbAMcDCV99joIPy0quHHWzsIzwWFWZ3vcThM9DDs4gm2M83wvm2F2ftlhrVeucuI26qB28LmrNU28m16UMMSY4DkldMYIgrCgt9WML5NDVzJNT07iZwiy8ympXAcbCTx3mvMEqo1uQDQ-ssZAXy2OoD7cXreRKx-vbCvGYVSf58PdA_0Kc4Tun_vImPxSG5SCpolR0A_9CTlDQBeaWx40oVeqxED_79R_6AwEhNYUewAXGMXuR4-cAq36WbG11dFjAsX0aCpQ3NTLdlokXqM85ZNCrUcRAcx1BNLNJ-F6-ievRYcCCNSZD_8_iHcvIuAuJg3fOhcToM8tzpP51rs8GLiNJWrteCCKwfkI-lyloNc6yiVbFk35uoG8jewqT1JFIxj_o4n1tXww8CA2eJYRNkkwCyDO0ZGm9HktwZ5Do_lKHA5_YGmXufrkiB7xXhVOsg-EHwo-jfswINYSG7DEBvttblmikNryQ4p-IUxohuMI_zI7qW-wOQ5xS4w6lgl2OAMHw5_5SDQuw_v69iWKm8htN0P9C761TulP1Au_W5P0JNhUqoDM2UPhCZuaC3CMVtE119EUTV0W4_gdHkZUyOdL8Kc1_X-1MD-rKCYkWwTxGf_uEXfakVdYyTz07ETKFgO3zJF-SZ8vBtld62OvA4iNQVTDhPikcQwJsTg2V_CotDRy1lsnFdMYiJYWJb44V2AtT3AkU5KAjRxwPzHqnRPouzAy8EaxnhGJaOUjTCA10POTDah5b8./download [following]\n--2017-11-19 08:20:29--  https://public.boxcloud.com/d/1/MUuK1cYwLHxKbBPcKA3sbIScKtY18rtGs6DvE_fYkxm_7THAxrjLRbfYn1eP-ts1kWxx3f5aP0RXJfHAIKyJSp-K_ZWtR1PXNF5LlNKMqLlkoZPlhR8yZug95SnnozNhBPALwT27msDGA-jzmkfcleRxojzMnM_tYhtzZ0mltb4C6gCeHJd3D4RIXV-K2Y0OKu4k1E5mGaSmtzKvA1zRahImxKYtZsHMgmjvsqhb5gR9LwgQXZVwG7q5pw2gBak_PV971kkqavtrhpXU_xpJ1LqD-vNqpQO7D-dy7gYKntWmfRzuoKq5MgSIMg99FSTjIzfHL9M0O6yPMi1HviaNqtpPAolk8I5SlKT3k7SphC1Tg2h9sdwk6mpe7kS-IyYPbOVizwKC6dUvqUNeW-M04a5R4ke2rthAVu0k004ypCFvX9rdnmsyOduKh2JE5-gJV7pnsTYtwO87NZUmKUWx5CJb5WDVH6gZSpvs5bI7vvidN5LjGWiZ7kwOtQfH7uh9kbKijz_m474SuryBEbAMcDCV99joIPy0quHHWzsIzwWFWZ3vcThM9DDs4gm2M83wvm2F2ftlhrVeucuI26qB28LmrNU28m16UMMSY4DkldMYIgrCgt9WML5NDVzJNT07iZwiy8ympXAcbCTx3mvMEqo1uQDQ-ssZAXy2OoD7cXreRKx-vbCvGYVSf58PdA_0Kc4Tun_vImPxSG5SCpolR0A_9CTlDQBeaWx40oVeqxED_79R_6AwEhNYUewAXGMXuR4-cAq36WbG11dFjAsX0aCpQ3NTLdlokXqM85ZNCrUcRAcx1BNLNJ-F6-ievRYcCCNSZD_8_iHcvIuAuJg3fOhcToM8tzpP51rs8GLiNJWrteCCKwfkI-lyloNc6yiVbFk35uoG8jewqT1JFIxj_o4n1tXww8CA2eJYRNkkwCyDO0ZGm9HktwZ5Do_lKHA5_YGmXufrkiB7xXhVOsg-EHwo-jfswINYSG7DEBvttblmikNryQ4p-IUxohuMI_zI7qW-wOQ5xS4w6lgl2OAMHw5_5SDQuw_v69iWKm8htN0P9C761TulP1Au_W5P0JNhUqoDM2UPhCZuaC3CMVtE119EUTV0W4_gdHkZUyOdL8Kc1_X-1MD-rKCYkWwTxGf_uEXfakVdYyTz07ETKFgO3zJF-SZ8vBtld62OvA4iNQVTDhPikcQwJsTg2V_CotDRy1lsnFdMYiJYWJb44V2AtT3AkU5KAjRxwPzHqnRPouzAy8EaxnhGJaOUjTCA10POTDah5b8./download\nResolving public.boxcloud.com (public.boxcloud.com)... 107.152.26.200\nConnecting to public.boxcloud.com (public.boxcloud.com)|107.152.26.200|:443... connected.\nHTTP request sent, awaiting response... 200 OK\nLength: 1075 (1.0K) [text/plain]\nSaving to: \u2018Thriller.txt\u2019\n\n100%[======================================>] 1,075       --.-K/s   in 0s      \n\n2017-11-19 08:20:29 (70.5 MB/s) - \u2018Thriller.txt\u2019 saved [1075/1075]\n\nName of the file: Thriller.txt\n", 
                    "name": "stdout"
                }
            ], 
            "cell_type": "code", 
            "source": "!wget -O Thriller.txt https://ibm.box.com/shared/static/cp4rkaw1pj0ggi3b8rxoxo9fvs4jecak.txt\nfile = open(\"Thriller.txt\",\"rw+\")\nprint \"Name of the file:\" , file.name", 
            "execution_count": 8, 
            "metadata": {
                "scrolled": true
            }
        }, 
        {
            "outputs": [
                {
                    "output_type": "stream", 
                    "text": "Read Line: ['Thriller is the sixth studio album by the American singer Michael Jackson, released on November 30, 1982 by Epic Records. It is the follow-up to Jackson\\'s critically and commercially successful fifth studio album Off the Wall (1979). Thriller explores genres similar to those of Off the Wall, including pop, post-disco, rock and funk. Recording sessions for Thriller took place from April to November 1982 at Westlake Recording Studios in Los Angeles, California with a production budget of $750,000 (US$1,842,155 in 2016 dollars[1]), assisted by producer Quincy Jones. Of the album\\'s nine tracks, four were written by Jackson. Seven singles were released from the album, all of which reached the top 10 on the Billboard Hot 100 chart. Three of the singles had music videos released. \"Baby Be Mine\" and \"The Lady in My Life\" were the only tracks that were not released as singles from the album.\\r\\n', '\\r\\n', '[1] Federal Reserve Bank of Minneapolis Community Development Project. \"Consumer Price Index (estimate) 1800\\x96\". Federal Reserve Bank of Minneapolis. Retrieved October 21, 2016.']\n", 
                    "name": "stdout"
                }
            ], 
            "cell_type": "code", 
            "source": "summary = file.readlines()\nprint \"Read Line: %s\" % (summary)", 
            "execution_count": 9, 
            "metadata": {}
        }, 
        {
            "outputs": [
                {
                    "output_type": "stream", 
                    "text": "[]\n[]\n", 
                    "name": "stdout"
                }
            ], 
            "cell_type": "code", 
            "source": "hi = file.readlines()\nprint hi\nbuy = file.readlines()\nprint buy\nfile.close()", 
            "execution_count": 10, 
            "metadata": {}
        }, 
        {
            "metadata": {}, 
            "cell_type": "markdown", 
            "source": " <a id=\"ref1\"></a>\n<h2 align=center>Reading Text Files</h2>"
        }, 
        {
            "metadata": {}, 
            "cell_type": "markdown", 
            "source": "One way to read or write a file in Python is to use the built-in\u00a0**open ()**\u00a0function.\u00a0The **open** function provides a **File object** that\u00a0contain methods and attributes you need to read, save, and manipulate the file. In this notebook we will only cover \u201c.txt\u201d files. The first parameter you need is the file path and the file name. An example is shown in figure 1.\n"
        }, 
        {
            "metadata": {}, 
            "cell_type": "markdown", 
            "source": " <a ><img src = \"https://ibm.box.com/shared/static/6wl3vw4ghflafrou0noj70t2n4hbalqr.png\" width = 500, align = \"center\"></a>\n  <h4 align=center>  \n    Figure 1: Labeled Syntax of a file object.  \n\n  </h4> "
        }, 
        {
            "metadata": {}, 
            "cell_type": "markdown", 
            "source": " The mode argument is optional the default value is \u2018r\u2019. In this notebook we only cover two modes:\u00a0\n\n<li>**r** Read mode for reading files </li>\n<li>**w** Write mode for writing files</li>"
        }, 
        {
            "metadata": {}, 
            "cell_type": "markdown", 
            "source": " For the next example, we will use text file \"Example1.txt\". The file is shown in figure 2.\n"
        }, 
        {
            "metadata": {}, 
            "cell_type": "markdown", 
            "source": " <a ><img src = \"https://ibm.box.com/shared/static/ilzy3av6x1cd3gi61bq2nq0vxb0awhju.png\" width = 200, align = \"center\"></a>\n  <h4 align=center>  \n    Figure 2: The text file \"Example1.txt\"\n\n  </h4> "
        }, 
        {
            "outputs": [
                {
                    "output_type": "stream", 
                    "text": "--2017-11-19 08:21:15--  https://ibm.box.com/shared/static/cp4rkaw1pj0ggi3b8rxoxo9fvs4jecak.txt\nResolving ibm.box.com (ibm.box.com)... 107.152.27.197\nConnecting to ibm.box.com (ibm.box.com)|107.152.27.197|:443... connected.\nHTTP request sent, awaiting response... 301 Moved Permanently\nLocation: https://ibm.ent.box.com/shared/static/cp4rkaw1pj0ggi3b8rxoxo9fvs4jecak.txt [following]\n--2017-11-19 08:21:15--  https://ibm.ent.box.com/shared/static/cp4rkaw1pj0ggi3b8rxoxo9fvs4jecak.txt\nResolving ibm.ent.box.com (ibm.ent.box.com)... 107.152.25.211, 107.152.24.211\nConnecting to ibm.ent.box.com (ibm.ent.box.com)|107.152.25.211|:443... connected.\nHTTP request sent, awaiting response... 302 Found\nLocation: https://public.boxcloud.com/d/1/-AZdWM-adYbG48crOiB2YQ85xIQSIScw6CeS2CQEU31WX4Anu__RYNyW971lJ65-5dK0P5JoRUsQU75Oh-DinTanV4fUSlEN3O-SsSyevv2g-ZHeyelT4knjOmJR91Xc8PgWoAzQB8tRCv3jz6SY4TFO0_bs57fiAd7bEytoAocQehlQdCzak-bA9RR9lqJP0SQNYOESAJDfaRT3vHZQk-jdu224Td4DuByuo0YlQVjpNNPX8tGtuGwOe1nu2TxjkjY8FE6xyAZp_RN_dcuihoIVzkKZTblOn2jvlVwt8B9EUfJYeJK9WV1RulVhFxIrW4IZdEZiNU0m_TxyuTyvDRHiqQZmIbn8xIJ3Jnf2jjCeNQUHjCzlt4SybOF_L1Z38r6Ovhu27ixgjrAX3Z66a7jecfjxA5vPYuhAvRG3CIknPkxwP_SsA27zyWLJdXpj2HUqyycKvfMNJtfCw-qVsFJXAeVohorpdq12gPWvgJuWAfODzfS6S9IhOTgCVzjTui-khfD_7qrsAbLjVYOLWYaszmDQXmUQyW99tzm5VQFaFfAJkiflXSRy1Ocdq4hZM7nNuBZOQrOnVy-eOfsuXon9bYKlARvYoXwab-JIeiJ_oopxfLkQhdF_uLU-ilwYSK6Y5BHr0W5CmBYmFB0J0hdFzNgvv8mtcVnqOTBvbpERmiJvVjYw0x5aJFD6K6YcysxTseQZB_Xo212CNDybtZIcGz4M6G_9o5U8xOoDAm75zybw08dNKA7QPWkoaJuY3p7eQTa5_qpL9_CVQ2jMK2c229E_2zC6ViTlk4g-DP1Y0qPMg2bM1RrCapatxIEyoFo7cbX7yo29nZHTWZmQ7IZ5hlcjnXYlq8K7oz9ikK3moPcul1cL-kkgoF9pNXNyf3c2C4RlqZtfjG_qxRBy5czGnbdz1X55SoeyKH9zloOeu2dLSVBTlzER97NsbGGYiLQuPN5XRvVTWVJhctw0U7f0N3A5xhUpwuLppxRalaFJsmcliXDCGBYa-GFr4UyaveVzkh5D-txP6Ogl0H9tkIVXMp2OZbUoizRWiQkCOcBFtXu9EXhh07gEJFelBvKq28EiWZ2VVhQIjJ6awDDNuq29onL-ajhmKlrFb5DnsuZ4T5sBXS7rcVW-5wnfMlVOGmQQ4rEJhRGcGPOuzEc1BTx2ZcLCuHRCbHwqNp7Ktf4VqYTKO_24YjNMkJqjerKLTV2t-81ZtbUMF9FZOBBAfBMMkOmeUb353GRWomCFcRnvzroGwIJPCoBN40pEmeEdEf8Qrrc./download [following]\n--2017-11-19 08:21:16--  https://public.boxcloud.com/d/1/-AZdWM-adYbG48crOiB2YQ85xIQSIScw6CeS2CQEU31WX4Anu__RYNyW971lJ65-5dK0P5JoRUsQU75Oh-DinTanV4fUSlEN3O-SsSyevv2g-ZHeyelT4knjOmJR91Xc8PgWoAzQB8tRCv3jz6SY4TFO0_bs57fiAd7bEytoAocQehlQdCzak-bA9RR9lqJP0SQNYOESAJDfaRT3vHZQk-jdu224Td4DuByuo0YlQVjpNNPX8tGtuGwOe1nu2TxjkjY8FE6xyAZp_RN_dcuihoIVzkKZTblOn2jvlVwt8B9EUfJYeJK9WV1RulVhFxIrW4IZdEZiNU0m_TxyuTyvDRHiqQZmIbn8xIJ3Jnf2jjCeNQUHjCzlt4SybOF_L1Z38r6Ovhu27ixgjrAX3Z66a7jecfjxA5vPYuhAvRG3CIknPkxwP_SsA27zyWLJdXpj2HUqyycKvfMNJtfCw-qVsFJXAeVohorpdq12gPWvgJuWAfODzfS6S9IhOTgCVzjTui-khfD_7qrsAbLjVYOLWYaszmDQXmUQyW99tzm5VQFaFfAJkiflXSRy1Ocdq4hZM7nNuBZOQrOnVy-eOfsuXon9bYKlARvYoXwab-JIeiJ_oopxfLkQhdF_uLU-ilwYSK6Y5BHr0W5CmBYmFB0J0hdFzNgvv8mtcVnqOTBvbpERmiJvVjYw0x5aJFD6K6YcysxTseQZB_Xo212CNDybtZIcGz4M6G_9o5U8xOoDAm75zybw08dNKA7QPWkoaJuY3p7eQTa5_qpL9_CVQ2jMK2c229E_2zC6ViTlk4g-DP1Y0qPMg2bM1RrCapatxIEyoFo7cbX7yo29nZHTWZmQ7IZ5hlcjnXYlq8K7oz9ikK3moPcul1cL-kkgoF9pNXNyf3c2C4RlqZtfjG_qxRBy5czGnbdz1X55SoeyKH9zloOeu2dLSVBTlzER97NsbGGYiLQuPN5XRvVTWVJhctw0U7f0N3A5xhUpwuLppxRalaFJsmcliXDCGBYa-GFr4UyaveVzkh5D-txP6Ogl0H9tkIVXMp2OZbUoizRWiQkCOcBFtXu9EXhh07gEJFelBvKq28EiWZ2VVhQIjJ6awDDNuq29onL-ajhmKlrFb5DnsuZ4T5sBXS7rcVW-5wnfMlVOGmQQ4rEJhRGcGPOuzEc1BTx2ZcLCuHRCbHwqNp7Ktf4VqYTKO_24YjNMkJqjerKLTV2t-81ZtbUMF9FZOBBAfBMMkOmeUb353GRWomCFcRnvzroGwIJPCoBN40pEmeEdEf8Qrrc./download\nResolving public.boxcloud.com (public.boxcloud.com)... 107.152.26.200\nConnecting to public.boxcloud.com (public.boxcloud.com)|107.152.26.200|:443... connected.\nHTTP request sent, awaiting response... 200 OK\nLength: 1075 (1.0K) [text/plain]\nSaving to: \u2018Example1.txt\u2019\n\n100%[======================================>] 1,075       --.-K/s   in 0s      \n\n2017-11-19 08:21:17 (80.9 MB/s) - \u2018Example1.txt\u2019 saved [1075/1075]\n\n", 
                    "name": "stdout"
                }
            ], 
            "cell_type": "code", 
            "source": "!wget -O Example1.txt https://ibm.box.com/shared/static/cp4rkaw1pj0ggi3b8rxoxo9fvs4jecak.txt\nexample1=\"Example1.txt\"\nfile1 = open(\"Example1.txt\",\"r\")", 
            "execution_count": 11, 
            "metadata": {}
        }, 
        {
            "metadata": {}, 
            "cell_type": "markdown", 
            "source": " We can view the attributes of the file, including..."
        }, 
        {
            "metadata": {}, 
            "cell_type": "markdown", 
            "source": "The name of the file:"
        }, 
        {
            "outputs": [
                {
                    "output_type": "execute_result", 
                    "execution_count": 12, 
                    "data": {
                        "text/plain": "'Example1.txt'"
                    }, 
                    "metadata": {}
                }
            ], 
            "cell_type": "code", 
            "source": "file1.name", 
            "execution_count": 12, 
            "metadata": {}
        }, 
        {
            "metadata": {}, 
            "cell_type": "markdown", 
            "source": " The mode the file object is in:"
        }, 
        {
            "outputs": [
                {
                    "output_type": "execute_result", 
                    "execution_count": 13, 
                    "data": {
                        "text/plain": "'r'"
                    }, 
                    "metadata": {}
                }
            ], 
            "cell_type": "code", 
            "source": "file1.mode", 
            "execution_count": 13, 
            "metadata": {}
        }, 
        {
            "metadata": {}, 
            "cell_type": "markdown", 
            "source": "We can read the file and set it to a variable :"
        }, 
        {
            "outputs": [
                {
                    "output_type": "execute_result", 
                    "execution_count": 15, 
                    "data": {
                        "text/plain": "''"
                    }, 
                    "metadata": {}
                }
            ], 
            "cell_type": "code", 
            "source": "FileContent=file1.read()\nFileContent", 
            "execution_count": 15, 
            "metadata": {}
        }, 
        {
            "metadata": {}, 
            "cell_type": "markdown", 
            "source": "The \u201c/n\u201d tells python that there is a new line. The file is of type string:"
        }, 
        {
            "outputs": [
                {
                    "output_type": "execute_result", 
                    "execution_count": 16, 
                    "data": {
                        "text/plain": "str"
                    }, 
                    "metadata": {}
                }
            ], 
            "cell_type": "code", 
            "source": "type(FileContent)", 
            "execution_count": 16, 
            "metadata": {}
        }, 
        {
            "metadata": {}, 
            "cell_type": "markdown", 
            "source": " We must close the file object:"
        }, 
        {
            "outputs": [], 
            "cell_type": "code", 
            "source": "file1.close()", 
            "execution_count": 17, 
            "metadata": {
                "collapsed": true
            }
        }, 
        {
            "metadata": {}, 
            "cell_type": "markdown", 
            "source": " <h3> A  Better Way to Open a File </h3>"
        }, 
        {
            "metadata": {}, 
            "cell_type": "markdown", 
            "source": " Using a with statement is better practice, it automatically closes the file even if the code encounters an exception. The code will run everything in the indent block then close the file."
        }, 
        {
            "outputs": [], 
            "cell_type": "code", 
            "source": "with open(\"Example1.txt\",\"r\") as file1:\n    FileContent=file1.read()\n", 
            "execution_count": 18, 
            "metadata": {
                "collapsed": true
            }
        }, 
        {
            "outputs": [
                {
                    "output_type": "stream", 
                    "text": "Thriller is the sixth studio album by the American singer Michael Jackson, released on November 30, 1982 by Epic Records. It is the follow-up to Jackson's critically and commercially successful fifth studio album Off the Wall (1979). Thriller explores genres similar to those of Off the Wall, including pop, post-disco, rock and funk. Recording sessions for Thriller took place from April to November 1982 at Westlake Recording Studios in Los Angeles, California with a production budget of $750,000 (US$1,842,155 in 2016 dollars[1]), assisted by producer Quincy Jones. Of the album's nine tracks, four were written by Jackson. Seven singles were released from the album, all of which reached the top 10 on the Billboard Hot 100 chart. Three of the singles had music videos released. \"Baby Be Mine\" and \"The Lady in My Life\" were the only tracks that were not released as singles from the album.\r\n\r\n[1] Federal Reserve Bank of Minneapolis Community Development Project. \"Consumer Price Index (estimate) 1800\ufffd\". Federal Reserve Bank of Minneapolis. Retrieved October 21, 2016.\n", 
                    "name": "stdout"
                }
            ], 
            "cell_type": "code", 
            "source": "print(FileContent)", 
            "execution_count": 20, 
            "metadata": {}
        }, 
        {
            "outputs": [
                {
                    "output_type": "execute_result", 
                    "execution_count": 21, 
                    "data": {
                        "text/plain": "'Thriller is the sixth studio album by the American singer Michael Jackson, released on November 30, 1982 by Epic Records. It is the follow-up to Jackson\\'s critically and commercially successful fifth studio album Off the Wall (1979). Thriller explores genres similar to those of Off the Wall, including pop, post-disco, rock and funk. Recording sessions for Thriller took place from April to November 1982 at Westlake Recording Studios in Los Angeles, California with a production budget of $750,000 (US$1,842,155 in 2016 dollars[1]), assisted by producer Quincy Jones. Of the album\\'s nine tracks, four were written by Jackson. Seven singles were released from the album, all of which reached the top 10 on the Billboard Hot 100 chart. Three of the singles had music videos released. \"Baby Be Mine\" and \"The Lady in My Life\" were the only tracks that were not released as singles from the album.\\r\\n\\r\\n[1] Federal Reserve Bank of Minneapolis Community Development Project. \"Consumer Price Index (estimate) 1800\\x96\". Federal Reserve Bank of Minneapolis. Retrieved October 21, 2016.'"
                    }, 
                    "metadata": {}
                }
            ], 
            "cell_type": "code", 
            "source": "FileContent", 
            "execution_count": 21, 
            "metadata": {}
        }, 
        {
            "metadata": {}, 
            "cell_type": "markdown", 
            "source": " The file object is closed, you can verify it by running the following cell:  "
        }, 
        {
            "outputs": [
                {
                    "output_type": "execute_result", 
                    "execution_count": 22, 
                    "data": {
                        "text/plain": "True"
                    }, 
                    "metadata": {}
                }
            ], 
            "cell_type": "code", 
            "source": "file1.closed", 
            "execution_count": 22, 
            "metadata": {}
        }, 
        {
            "metadata": {}, 
            "cell_type": "markdown", 
            "source": "The syntax is a little confusing as the file object is after the \u201cas\u201d statement. Also we don\u2019t explicitly close the file. Therefor we summarize the steps in figure 3.   \n"
        }, 
        {
            "metadata": {}, 
            "cell_type": "markdown", 
            "source": " <a ><img src = \"https://ibm.box.com/shared/static/ywul1ji1ld82xwz60ljxvbg6fs2vrunm.png\" width = 500, align = \"center\"></a>\n  <h4 align=center>  \n    Figure 3: Syntax for opening a file with a with statement.\n\n  </h4> "
        }, 
        {
            "metadata": {}, 
            "cell_type": "markdown", 
            "source": "We don\u2019t have to read the entire file, for example we can read the first 4 characters by entering three as a parameter to the method \u201c.read()\u201d         \n"
        }, 
        {
            "outputs": [
                {
                    "output_type": "stream", 
                    "text": "Thri\n", 
                    "name": "stdout"
                }
            ], 
            "cell_type": "code", 
            "source": "with open(\"Example1.txt\",\"r\") as file1:\n    print(file1.read(4))", 
            "execution_count": 23, 
            "metadata": {}
        }, 
        {
            "metadata": {}, 
            "cell_type": "markdown", 
            "source": "Once the method \u201c.read(4)\u201d is called  the first 4 characters are called, if we call the method again the next four characters are called. The output for the following cell will demonstrate the process for different inputs to the method \u201cread() \u201c  \n"
        }, 
        {
            "outputs": [
                {
                    "output_type": "stream", 
                    "text": "Thri\nller\n is the\n sixth studio a\n", 
                    "name": "stdout"
                }
            ], 
            "cell_type": "code", 
            "source": "with open(\"Example1.txt\",\"r\") as file1:\n    print(file1.read(4))\n    print(file1.read(4))\n    print(file1.read(7))\n    print(file1.read(15))\n", 
            "execution_count": 24, 
            "metadata": {}
        }, 
        {
            "metadata": {}, 
            "cell_type": "markdown", 
            "source": " The process is illustrated in figure  4,  each color represents the part of the file read after the method \u201cread()\u201d is called.\n"
        }, 
        {
            "metadata": {}, 
            "cell_type": "markdown", 
            "source": " <a ><img src = \"https://ibm.box.com/shared/static/s0xs6y4vcvabp2ll2pwspa6kd8qeoddj.png\" width = 500, align = \"center\"></a>\n  <h4 align=center>  \n    Figure 4: Syntax for opening a file with a with statement.\n\n  </h4> "
        }, 
        {
            "metadata": {}, 
            "cell_type": "markdown", 
            "source": "We can also read one line of the file at a time using the method readline: "
        }, 
        {
            "outputs": [
                {
                    "output_type": "stream", 
                    "text": "first line: Thriller is the sixth studio album by the American singer Michael Jackson, released on November 30, 1982 by Epic Records. It is the follow-up to Jackson's critically and commercially successful fifth studio album Off the Wall (1979). Thriller explores genres similar to those of Off the Wall, including pop, post-disco, rock and funk. Recording sessions for Thriller took place from April to November 1982 at Westlake Recording Studios in Los Angeles, California with a production budget of $750,000 (US$1,842,155 in 2016 dollars[1]), assisted by producer Quincy Jones. Of the album's nine tracks, four were written by Jackson. Seven singles were released from the album, all of which reached the top 10 on the Billboard Hot 100 chart. Three of the singles had music videos released. \"Baby Be Mine\" and \"The Lady in My Life\" were the only tracks that were not released as singles from the album.\r\n\n", 
                    "name": "stdout"
                }
            ], 
            "cell_type": "code", 
            "source": " with open(\"Example1.txt\",\"r\") as file1:\n    print(\"first line: \" + file1.readline())", 
            "execution_count": 25, 
            "metadata": {}
        }, 
        {
            "metadata": {}, 
            "cell_type": "markdown", 
            "source": " We can use a loop to iterate through each line. \n"
        }, 
        {
            "outputs": [
                {
                    "output_type": "stream", 
                    "text": "('Iteration', '0', ':', 'Thriller is the sixth studio album by the American singer Michael Jackson, released on November 30, 1982 by Epic Records. It is the follow-up to Jackson\\'s critically and commercially successful fifth studio album Off the Wall (1979). Thriller explores genres similar to those of Off the Wall, including pop, post-disco, rock and funk. Recording sessions for Thriller took place from April to November 1982 at Westlake Recording Studios in Los Angeles, California with a production budget of $750,000 (US$1,842,155 in 2016 dollars[1]), assisted by producer Quincy Jones. Of the album\\'s nine tracks, four were written by Jackson. Seven singles were released from the album, all of which reached the top 10 on the Billboard Hot 100 chart. Three of the singles had music videos released. \"Baby Be Mine\" and \"The Lady in My Life\" were the only tracks that were not released as singles from the album.\\r\\n')\n('Iteration', '1', ':', '\\r\\n')\n('Iteration', '2', ':', '[1] Federal Reserve Bank of Minneapolis Community Development Project. \"Consumer Price Index (estimate) 1800\\x96\". Federal Reserve Bank of Minneapolis. Retrieved October 21, 2016.')\n", 
                    "name": "stdout"
                }
            ], 
            "cell_type": "code", 
            "source": " with open(\"Example1.txt\",\"r\") as file1:\n        i=0;\n        for line in file1:\n            print(\"Iteration\" ,str(i),\":\",line)\n            i=i+1;", 
            "execution_count": 26, 
            "metadata": {}
        }, 
        {
            "metadata": {}, 
            "cell_type": "markdown", 
            "source": "We can use the method \u201c readline()\u201d  to save the text file to a list. "
        }, 
        {
            "outputs": [], 
            "cell_type": "code", 
            "source": "with open(\"Example1.txt\",\"r\") as file1:\n    FileasList=file1.readlines()", 
            "execution_count": 27, 
            "metadata": {
                "collapsed": true
            }
        }, 
        {
            "metadata": {}, 
            "cell_type": "markdown", 
            "source": " Each element of the list corresponds to a line of text."
        }, 
        {
            "outputs": [
                {
                    "output_type": "execute_result", 
                    "execution_count": 28, 
                    "data": {
                        "text/plain": "'Thriller is the sixth studio album by the American singer Michael Jackson, released on November 30, 1982 by Epic Records. It is the follow-up to Jackson\\'s critically and commercially successful fifth studio album Off the Wall (1979). Thriller explores genres similar to those of Off the Wall, including pop, post-disco, rock and funk. Recording sessions for Thriller took place from April to November 1982 at Westlake Recording Studios in Los Angeles, California with a production budget of $750,000 (US$1,842,155 in 2016 dollars[1]), assisted by producer Quincy Jones. Of the album\\'s nine tracks, four were written by Jackson. Seven singles were released from the album, all of which reached the top 10 on the Billboard Hot 100 chart. Three of the singles had music videos released. \"Baby Be Mine\" and \"The Lady in My Life\" were the only tracks that were not released as singles from the album.\\r\\n'"
                    }, 
                    "metadata": {}
                }
            ], 
            "cell_type": "code", 
            "source": "FileasList[0]", 
            "execution_count": 28, 
            "metadata": {}
        }, 
        {
            "outputs": [
                {
                    "output_type": "execute_result", 
                    "execution_count": 29, 
                    "data": {
                        "text/plain": "'\\r\\n'"
                    }, 
                    "metadata": {}
                }
            ], 
            "cell_type": "code", 
            "source": "FileasList[1]", 
            "execution_count": 29, 
            "metadata": {}
        }, 
        {
            "outputs": [
                {
                    "output_type": "execute_result", 
                    "execution_count": 30, 
                    "data": {
                        "text/plain": "'[1] Federal Reserve Bank of Minneapolis Community Development Project. \"Consumer Price Index (estimate) 1800\\x96\". Federal Reserve Bank of Minneapolis. Retrieved October 21, 2016.'"
                    }, 
                    "metadata": {}
                }
            ], 
            "cell_type": "code", 
            "source": "FileasList[2]", 
            "execution_count": 30, 
            "metadata": {}
        }, 
        {
            "metadata": {}, 
            "cell_type": "markdown", 
            "source": "<a id=\"ref3\"></a>\n<h2 align=center>Writing Files</h2>"
        }, 
        {
            "metadata": {}, 
            "cell_type": "markdown", 
            "source": " We can use the method \u201c readline()\u201d  to save the text file to a list. "
        }, 
        {
            "metadata": {}, 
            "cell_type": "markdown", 
            "source": " In order to write a mode argument to write \u2018w\u2019.\nLet\u2019s write a file \u201cExample2.txt\u201d with the line: \u201cThis is line A\u201d\n\n\n"
        }, 
        {
            "outputs": [], 
            "cell_type": "code", 
            "source": "with open('Example2.txt','w') as writefile:\n    writefile.write(\"This is line A\")", 
            "execution_count": 31, 
            "metadata": {
                "collapsed": true
            }
        }, 
        {
            "metadata": {}, 
            "cell_type": "markdown", 
            "source": " we can read the file to see if it worked"
        }, 
        {
            "outputs": [
                {
                    "output_type": "stream", 
                    "text": "This is line A\n", 
                    "name": "stdout"
                }
            ], 
            "cell_type": "code", 
            "source": "with open('Example2.txt','r') as testwritefile:\n    print(testwritefile.read())", 
            "execution_count": 32, 
            "metadata": {}
        }, 
        {
            "metadata": {}, 
            "cell_type": "markdown", 
            "source": "We can write multiple lines:"
        }, 
        {
            "outputs": [], 
            "cell_type": "code", 
            "source": "with open('Example2.txt','w') as writefile:\n    writefile.write(\"This is line A\\n\")\n    writefile.write(\"This is line B\\n\")", 
            "execution_count": 33, 
            "metadata": {
                "collapsed": true
            }
        }, 
        {
            "metadata": {}, 
            "cell_type": "markdown", 
            "source": "The method  \u201c.write()\u201d works similar to the method  \u201c.readline()\u201d,  except instead of reading a new line it writes a new line. The process is illustrated in figure 5, the different color coding of the grid represents a new line added after each method call.   "
        }, 
        {
            "metadata": {}, 
            "cell_type": "markdown", 
            "source": " <a ><img src = \"https://ibm.box.com/shared/static/4d86eysjv7fiy5nocgvpbddyj2uckw6z.png\" width = 500, align = \"center\"></a>\n  <h4 align=center>  \n    Figure 4: An example of \u201c.write()\u201d,the different color coding of the grid represents a new line added after each method call.\n\n\n  </h4> "
        }, 
        {
            "metadata": {}, 
            "cell_type": "markdown", 
            "source": "You can check the file to see if your results are correct "
        }, 
        {
            "outputs": [
                {
                    "output_type": "stream", 
                    "text": "This is line A\nThis is line B\n\n", 
                    "name": "stdout"
                }
            ], 
            "cell_type": "code", 
            "source": "with open('Example2.txt','r') as testwritefile:\n    print(testwritefile.read())", 
            "execution_count": 34, 
            "metadata": {}
        }, 
        {
            "metadata": {}, 
            "cell_type": "markdown", 
            "source": " We write a list to a \".txt\" file."
        }, 
        {
            "outputs": [
                {
                    "output_type": "execute_result", 
                    "execution_count": 35, 
                    "data": {
                        "text/plain": "['This is line A\\n', 'This is line B\\n', 'This is line C\\n']"
                    }, 
                    "metadata": {}
                }
            ], 
            "cell_type": "code", 
            "source": "Lines=[\"This is line A\\n\",\"This is line B\\n\",\"This is line C\\n\"]\nLines", 
            "execution_count": 35, 
            "metadata": {}
        }, 
        {
            "outputs": [
                {
                    "output_type": "stream", 
                    "text": "This is line A\n\nThis is line B\n\nThis is line C\n\n", 
                    "name": "stdout"
                }
            ], 
            "cell_type": "code", 
            "source": "with open('Example2.txt','w') as writefile:\n    for line in Lines:\n        print(line)\n        writefile.write(line)", 
            "execution_count": 36, 
            "metadata": {}
        }, 
        {
            "outputs": [
                {
                    "output_type": "stream", 
                    "text": "This is line A\nThis is line B\nThis is line C\n\n", 
                    "name": "stdout"
                }
            ], 
            "cell_type": "code", 
            "source": "with open('Example2.txt','r') as testwritefile:\n    print(testwritefile.read())", 
            "execution_count": 37, 
            "metadata": {}
        }, 
        {
            "metadata": {}, 
            "cell_type": "markdown", 
            "source": "#### Copy a file "
        }, 
        {
            "metadata": {
                "collapsed": true
            }, 
            "cell_type": "markdown", 
            "source": "Lets copy the file \u201cExample1.txt\u201d to the file \u201cExample3.txt\u201d"
        }, 
        {
            "outputs": [], 
            "cell_type": "code", 
            "source": "with open('Example1.txt','r') as readfile:\n    with open('Example3.txt','w') as writefile:\n          for line in readfile:\n                writefile.write(line)", 
            "execution_count": 39, 
            "metadata": {}
        }, 
        {
            "metadata": {}, 
            "cell_type": "markdown", 
            "source": "We can read the file to see if everything works:"
        }, 
        {
            "outputs": [
                {
                    "output_type": "stream", 
                    "text": "Thriller is the sixth studio album by the American singer Michael Jackson, released on November 30, 1982 by Epic Records. It is the follow-up to Jackson's critically and commercially successful fifth studio album Off the Wall (1979). Thriller explores genres similar to those of Off the Wall, including pop, post-disco, rock and funk. Recording sessions for Thriller took place from April to November 1982 at Westlake Recording Studios in Los Angeles, California with a production budget of $750,000 (US$1,842,155 in 2016 dollars[1]), assisted by producer Quincy Jones. Of the album's nine tracks, four were written by Jackson. Seven singles were released from the album, all of which reached the top 10 on the Billboard Hot 100 chart. Three of the singles had music videos released. \"Baby Be Mine\" and \"The Lady in My Life\" were the only tracks that were not released as singles from the album.\r\n\r\n[1] Federal Reserve Bank of Minneapolis Community Development Project. \"Consumer Price Index (estimate) 1800\ufffd\". Federal Reserve Bank of Minneapolis. Retrieved October 21, 2016.\n", 
                    "name": "stdout"
                }
            ], 
            "cell_type": "code", 
            "source": "with open('Example3.txt','r') as testwritefile:\n    print(testwritefile.read())", 
            "execution_count": 40, 
            "metadata": {}
        }, 
        {
            "metadata": {}, 
            "cell_type": "markdown", 
            "source": " After reading files, we can also write data into files and save them in different file formats like **.txt, .csv, .xls (for excel files) etc**. Let's take a look at some examples."
        }, 
        {
            "metadata": {}, 
            "cell_type": "markdown", 
            "source": "<h3 style=\"font-size:115%\">Exporting as Text File</h3>"
        }, 
        {
            "metadata": {}, 
            "cell_type": "markdown", 
            "source": "Suppose we want to export the summary to **.txt** file. To do so, we can use **writelines()** method which writes into the file and saves that file to disk, in the specified directory.\n\nLet's create a txt file and try to save the summary text into the file."
        }, 
        {
            "outputs": [], 
            "cell_type": "code", 
            "source": "music_txt_file = open(\"Example1.txt\", \"w\")\nmusic_txt_file.writelines(summary)\nmusic_txt_file.close() ", 
            "execution_count": 41, 
            "metadata": {
                "collapsed": true
            }
        }, 
        {
            "metadata": {}, 
            "cell_type": "markdown", 
            "source": "Now go to the directory to ensure the .txt file exists and contains the summary data that we wrote."
        }, 
        {
            "metadata": {}, 
            "cell_type": "markdown", 
            "source": "<h3 style=\"font-size:115%\">Exporting as .csv File</h3>"
        }, 
        {
            "metadata": {}, 
            "cell_type": "markdown", 
            "source": "Next, let's write the summary data to a csv file."
        }, 
        {
            "outputs": [
                {
                    "output_type": "stream", 
                    "text": " Mike \n", 
                    "name": "stdout"
                }
            ], 
            "cell_type": "code", 
            "source": "music_csv_file = open(\"Example1.txt\", \"w\")\nmusic_csv_file.writelines(summary) \nmusic_csv_file.close() \n\nmy_tuple = (123, 'Mike')\ns = ' mike '\nprint s.title()\n", 
            "execution_count": 42, 
            "metadata": {}
        }, 
        {
            "metadata": {}, 
            "cell_type": "markdown", 
            "source": "When you check the file, you will notice that data is put into a new column wherever there was a comma."
        }, 
        {
            "metadata": {}, 
            "cell_type": "markdown", 
            "source": "<h3 style=\"font-size:115%\">Exporting as Excel File</h3>"
        }, 
        {
            "metadata": {}, 
            "cell_type": "markdown", 
            "source": "Next, let's write the summary data to an Excel file."
        }, 
        {
            "outputs": [], 
            "cell_type": "code", 
            "source": "music_xls_file = open(\"../resources/data/music_xlsx_file.xls\", \"w\")\nmusic_xls_file.writelines(summary) \nmusic_xls_file.close() ", 
            "execution_count": null, 
            "metadata": {
                "collapsed": true
            }
        }, 
        {
            "metadata": {}, 
            "cell_type": "markdown", 
            "source": "When you check the file, you will notice that data is put into and Excel file, in the first column, rows 1 to 3."
        }, 
        {
            "metadata": {}, 
            "cell_type": "markdown", 
            "source": "<hr>\n### About the Author:  \nThis notebook was updated by  [Joseph Santarcangelo]( https://www.linkedin.com/in/joseph-s-50398b136/) \n\n\nHi! It's  [Agatha Colangelo](https://www.linkedin.com/in/agathacolangelo), the author of this notebook. I hope you found Python easy to learn! There's lots more to learn about Python but you're well on your way. Feel free to connect with me if you have any questions."
        }, 
        {
            "metadata": {}, 
            "cell_type": "markdown", 
            "source": "<hr>\nCopyright &copy; 2016 [Big Data University](https://bigdatauniversity.com/?utm_source=bducopyrightlink&utm_medium=dswb&utm_campaign=bdu). This notebook and its source code are released under the terms of the [MIT License](https://bigdatauniversity.com/mit-license/)."
        }
    ], 
    "nbformat": 4, 
    "nbformat_minor": 1
}